{
 "cells": [
  {
   "cell_type": "code",
   "execution_count": 51,
   "metadata": {},
   "outputs": [],
   "source": [
    "import tensorflow as tf\n",
    "\n",
    "n_hidden_1 = 500\n",
    "n_hidden_2 = 250\n",
    "n_hidden_3 = 120\n",
    "n_input = 82\n",
    "n_output = 60\n",
    "\n",
    "model= tf.keras.models.Sequential()\n",
    "\n",
    "model.add(tf.keras.Input(shape=(n_input,)))\n",
    "model.add(tf.keras.layers.Dense(n_hidden_1, use_bias=True, activation='relu'))\n",
    "model.add(tf.keras.layers.Dense(n_hidden_2, use_bias=True, activation='relu'))\n",
    "model.add(tf.keras.layers.Dense(n_hidden_3, use_bias=True, activation='relu'))\n",
    "model.add(tf.keras.layers.Dense(n_output, use_bias=True, activation='relu'))"
   ]
  },
  {
   "cell_type": "code",
   "execution_count": 52,
   "metadata": {},
   "outputs": [
    {
     "name": "stdout",
     "output_type": "stream",
     "text": [
      "(None, 60)\n"
     ]
    }
   ],
   "source": [
    "print(model.output_shape)"
   ]
  },
  {
   "cell_type": "code",
   "execution_count": 53,
   "metadata": {},
   "outputs": [
    {
     "data": {
      "text/plain": [
       "[array([[-0.03613039, -0.01048139, -0.07035747, ...,  0.00405729,\n",
       "         -0.00651713,  0.00573353],\n",
       "        [ 0.06953748,  0.05973358, -0.09376984, ..., -0.07526973,\n",
       "         -0.06052237, -0.06293887],\n",
       "        [-0.07837759,  0.07459097,  0.09387839, ...,  0.07318106,\n",
       "          0.03537619, -0.03523006],\n",
       "        ...,\n",
       "        [-0.09205339, -0.08969883,  0.07879445, ...,  0.07295942,\n",
       "          0.04743384,  0.06227483],\n",
       "        [-0.04596815, -0.03549872,  0.05380228, ..., -0.07643824,\n",
       "         -0.0497723 ,  0.04853848],\n",
       "        [-0.09450985,  0.02663769, -0.09420781, ...,  0.0542729 ,\n",
       "          0.00436874, -0.00637639]], dtype=float32),\n",
       " array([0., 0., 0., 0., 0., 0., 0., 0., 0., 0., 0., 0., 0., 0., 0., 0., 0.,\n",
       "        0., 0., 0., 0., 0., 0., 0., 0., 0., 0., 0., 0., 0., 0., 0., 0., 0.,\n",
       "        0., 0., 0., 0., 0., 0., 0., 0., 0., 0., 0., 0., 0., 0., 0., 0., 0.,\n",
       "        0., 0., 0., 0., 0., 0., 0., 0., 0., 0., 0., 0., 0., 0., 0., 0., 0.,\n",
       "        0., 0., 0., 0., 0., 0., 0., 0., 0., 0., 0., 0., 0., 0., 0., 0., 0.,\n",
       "        0., 0., 0., 0., 0., 0., 0., 0., 0., 0., 0., 0., 0., 0., 0., 0., 0.,\n",
       "        0., 0., 0., 0., 0., 0., 0., 0., 0., 0., 0., 0., 0., 0., 0., 0., 0.,\n",
       "        0., 0., 0., 0., 0., 0., 0., 0., 0., 0., 0., 0., 0., 0., 0., 0., 0.,\n",
       "        0., 0., 0., 0., 0., 0., 0., 0., 0., 0., 0., 0., 0., 0., 0., 0., 0.,\n",
       "        0., 0., 0., 0., 0., 0., 0., 0., 0., 0., 0., 0., 0., 0., 0., 0., 0.,\n",
       "        0., 0., 0., 0., 0., 0., 0., 0., 0., 0., 0., 0., 0., 0., 0., 0., 0.,\n",
       "        0., 0., 0., 0., 0., 0., 0., 0., 0., 0., 0., 0., 0., 0., 0., 0., 0.,\n",
       "        0., 0., 0., 0., 0., 0., 0., 0., 0., 0., 0., 0., 0., 0., 0., 0., 0.,\n",
       "        0., 0., 0., 0., 0., 0., 0., 0., 0., 0., 0., 0., 0., 0., 0., 0., 0.,\n",
       "        0., 0., 0., 0., 0., 0., 0., 0., 0., 0., 0., 0., 0., 0., 0., 0., 0.,\n",
       "        0., 0., 0., 0., 0., 0., 0., 0., 0., 0., 0., 0., 0., 0., 0., 0., 0.,\n",
       "        0., 0., 0., 0., 0., 0., 0., 0., 0., 0., 0., 0., 0., 0., 0., 0., 0.,\n",
       "        0., 0., 0., 0., 0., 0., 0., 0., 0., 0., 0., 0., 0., 0., 0., 0., 0.,\n",
       "        0., 0., 0., 0., 0., 0., 0., 0., 0., 0., 0., 0., 0., 0., 0., 0., 0.,\n",
       "        0., 0., 0., 0., 0., 0., 0., 0., 0., 0., 0., 0., 0., 0., 0., 0., 0.,\n",
       "        0., 0., 0., 0., 0., 0., 0., 0., 0., 0., 0., 0., 0., 0., 0., 0., 0.,\n",
       "        0., 0., 0., 0., 0., 0., 0., 0., 0., 0., 0., 0., 0., 0., 0., 0., 0.,\n",
       "        0., 0., 0., 0., 0., 0., 0., 0., 0., 0., 0., 0., 0., 0., 0., 0., 0.,\n",
       "        0., 0., 0., 0., 0., 0., 0., 0., 0., 0., 0., 0., 0., 0., 0., 0., 0.,\n",
       "        0., 0., 0., 0., 0., 0., 0., 0., 0., 0., 0., 0., 0., 0., 0., 0., 0.,\n",
       "        0., 0., 0., 0., 0., 0., 0., 0., 0., 0., 0., 0., 0., 0., 0., 0., 0.,\n",
       "        0., 0., 0., 0., 0., 0., 0., 0., 0., 0., 0., 0., 0., 0., 0., 0., 0.,\n",
       "        0., 0., 0., 0., 0., 0., 0., 0., 0., 0., 0., 0., 0., 0., 0., 0., 0.,\n",
       "        0., 0., 0., 0., 0., 0., 0., 0., 0., 0., 0., 0., 0., 0., 0., 0., 0.,\n",
       "        0., 0., 0., 0., 0., 0., 0.], dtype=float32),\n",
       " array([[-0.01719265, -0.0869345 , -0.02882587, ...,  0.03897467,\n",
       "         -0.02444119,  0.00897727],\n",
       "        [ 0.0400156 , -0.07446113,  0.0103832 , ..., -0.00593877,\n",
       "         -0.02857959, -0.0548959 ],\n",
       "        [ 0.0680655 , -0.01552459,  0.08766361, ..., -0.06887576,\n",
       "          0.0041497 ,  0.01629619],\n",
       "        ...,\n",
       "        [-0.05837139,  0.04786218,  0.0524598 , ...,  0.00493719,\n",
       "         -0.0850502 , -0.07956682],\n",
       "        [ 0.03053152, -0.05073091, -0.05775329, ...,  0.06917057,\n",
       "          0.07428945, -0.07568748],\n",
       "        [-0.03635353, -0.05137159, -0.03489617, ..., -0.02726775,\n",
       "         -0.00821214,  0.07526606]], dtype=float32),\n",
       " array([0., 0., 0., 0., 0., 0., 0., 0., 0., 0., 0., 0., 0., 0., 0., 0., 0.,\n",
       "        0., 0., 0., 0., 0., 0., 0., 0., 0., 0., 0., 0., 0., 0., 0., 0., 0.,\n",
       "        0., 0., 0., 0., 0., 0., 0., 0., 0., 0., 0., 0., 0., 0., 0., 0., 0.,\n",
       "        0., 0., 0., 0., 0., 0., 0., 0., 0., 0., 0., 0., 0., 0., 0., 0., 0.,\n",
       "        0., 0., 0., 0., 0., 0., 0., 0., 0., 0., 0., 0., 0., 0., 0., 0., 0.,\n",
       "        0., 0., 0., 0., 0., 0., 0., 0., 0., 0., 0., 0., 0., 0., 0., 0., 0.,\n",
       "        0., 0., 0., 0., 0., 0., 0., 0., 0., 0., 0., 0., 0., 0., 0., 0., 0.,\n",
       "        0., 0., 0., 0., 0., 0., 0., 0., 0., 0., 0., 0., 0., 0., 0., 0., 0.,\n",
       "        0., 0., 0., 0., 0., 0., 0., 0., 0., 0., 0., 0., 0., 0., 0., 0., 0.,\n",
       "        0., 0., 0., 0., 0., 0., 0., 0., 0., 0., 0., 0., 0., 0., 0., 0., 0.,\n",
       "        0., 0., 0., 0., 0., 0., 0., 0., 0., 0., 0., 0., 0., 0., 0., 0., 0.,\n",
       "        0., 0., 0., 0., 0., 0., 0., 0., 0., 0., 0., 0., 0., 0., 0., 0., 0.,\n",
       "        0., 0., 0., 0., 0., 0., 0., 0., 0., 0., 0., 0., 0., 0., 0., 0., 0.,\n",
       "        0., 0., 0., 0., 0., 0., 0., 0., 0., 0., 0., 0., 0., 0., 0., 0., 0.,\n",
       "        0., 0., 0., 0., 0., 0., 0., 0., 0., 0., 0., 0.], dtype=float32),\n",
       " array([[-0.08630589, -0.12568463,  0.10795753, ...,  0.09482761,\n",
       "          0.01822165, -0.10720858],\n",
       "        [-0.08507556,  0.12215872,  0.02483487, ..., -0.11196641,\n",
       "         -0.11654818,  0.07413401],\n",
       "        [ 0.03898229,  0.10944472,  0.03163561, ..., -0.07107839,\n",
       "          0.07790083, -0.12679064],\n",
       "        ...,\n",
       "        [-0.07680377,  0.00465187,  0.03251906, ...,  0.0746098 ,\n",
       "         -0.03579761,  0.06183262],\n",
       "        [-0.00249223, -0.10919911,  0.11550783, ...,  0.08074449,\n",
       "          0.04492146,  0.01768313],\n",
       "        [ 0.03108086, -0.03485318, -0.04906546, ...,  0.08262789,\n",
       "         -0.0897149 ,  0.11696737]], dtype=float32),\n",
       " array([0., 0., 0., 0., 0., 0., 0., 0., 0., 0., 0., 0., 0., 0., 0., 0., 0.,\n",
       "        0., 0., 0., 0., 0., 0., 0., 0., 0., 0., 0., 0., 0., 0., 0., 0., 0.,\n",
       "        0., 0., 0., 0., 0., 0., 0., 0., 0., 0., 0., 0., 0., 0., 0., 0., 0.,\n",
       "        0., 0., 0., 0., 0., 0., 0., 0., 0., 0., 0., 0., 0., 0., 0., 0., 0.,\n",
       "        0., 0., 0., 0., 0., 0., 0., 0., 0., 0., 0., 0., 0., 0., 0., 0., 0.,\n",
       "        0., 0., 0., 0., 0., 0., 0., 0., 0., 0., 0., 0., 0., 0., 0., 0., 0.,\n",
       "        0., 0., 0., 0., 0., 0., 0., 0., 0., 0., 0., 0., 0., 0., 0., 0., 0.,\n",
       "        0.], dtype=float32),\n",
       " array([[ 0.0764614 ,  0.08471707, -0.05950604, ..., -0.06653158,\n",
       "          0.02308346, -0.09882236],\n",
       "        [ 0.13103178, -0.18079889, -0.07118232, ..., -0.17221919,\n",
       "          0.13374332,  0.00909348],\n",
       "        [ 0.05456243, -0.0492585 ,  0.07333419, ...,  0.01886389,\n",
       "         -0.16462335,  0.06557807],\n",
       "        ...,\n",
       "        [-0.17967941,  0.0554644 ,  0.06375434, ..., -0.11859458,\n",
       "         -0.07063642, -0.16254032],\n",
       "        [ 0.105252  , -0.0053142 , -0.03253107, ..., -0.131055  ,\n",
       "         -0.09266932,  0.12391984],\n",
       "        [-0.00140952, -0.06655065,  0.1649045 , ..., -0.17817779,\n",
       "          0.04575963,  0.04035607]], dtype=float32),\n",
       " array([0., 0., 0., 0., 0., 0., 0., 0., 0., 0., 0., 0., 0., 0., 0., 0., 0.,\n",
       "        0., 0., 0., 0., 0., 0., 0., 0., 0., 0., 0., 0., 0., 0., 0., 0., 0.,\n",
       "        0., 0., 0., 0., 0., 0., 0., 0., 0., 0., 0., 0., 0., 0., 0., 0., 0.,\n",
       "        0., 0., 0., 0., 0., 0., 0., 0., 0.], dtype=float32)]"
      ]
     },
     "execution_count": 53,
     "metadata": {},
     "output_type": "execute_result"
    }
   ],
   "source": [
    "model.get_weights()"
   ]
  },
  {
   "cell_type": "code",
   "execution_count": 54,
   "metadata": {},
   "outputs": [
    {
     "ename": "AttributeError",
     "evalue": "'Sequential' object has no attribute 'get_biases'",
     "output_type": "error",
     "traceback": [
      "\u001b[0;31m---------------------------------------------------------------------------\u001b[0m",
      "\u001b[0;31mAttributeError\u001b[0m                            Traceback (most recent call last)",
      "\u001b[0;32m/tmp/ipykernel_21275/4087490835.py\u001b[0m in \u001b[0;36m<module>\u001b[0;34m\u001b[0m\n\u001b[0;32m----> 1\u001b[0;31m \u001b[0mmodel\u001b[0m\u001b[0;34m.\u001b[0m\u001b[0mget_biases\u001b[0m\u001b[0;34m(\u001b[0m\u001b[0;34m)\u001b[0m\u001b[0;34m\u001b[0m\u001b[0;34m\u001b[0m\u001b[0m\n\u001b[0m",
      "\u001b[0;31mAttributeError\u001b[0m: 'Sequential' object has no attribute 'get_biases'"
     ]
    }
   ],
   "source": [
    "model.get_biases()"
   ]
  },
  {
   "cell_type": "code",
   "execution_count": 55,
   "metadata": {},
   "outputs": [
    {
     "name": "stdout",
     "output_type": "stream",
     "text": [
      "Model: \"sequential_1\"\n",
      "_________________________________________________________________\n",
      "Layer (type)                 Output Shape              Param #   \n",
      "=================================================================\n",
      "dense_4 (Dense)              (None, 500)               41500     \n",
      "_________________________________________________________________\n",
      "dense_5 (Dense)              (None, 250)               125250    \n",
      "_________________________________________________________________\n",
      "dense_6 (Dense)              (None, 120)               30120     \n",
      "_________________________________________________________________\n",
      "dense_7 (Dense)              (None, 60)                7260      \n",
      "=================================================================\n",
      "Total params: 204,130\n",
      "Trainable params: 204,130\n",
      "Non-trainable params: 0\n",
      "_________________________________________________________________\n",
      "None\n"
     ]
    }
   ],
   "source": [
    "summary = model.summary()\n",
    "\n",
    "print(summary)"
   ]
  },
  {
   "cell_type": "code",
   "execution_count": 43,
   "metadata": {},
   "outputs": [
    {
     "name": "stdout",
     "output_type": "stream",
     "text": [
      "  [*] load ./weight/encoder_h1.pkl\n",
      "  [*] load ./weight/encoder_h2.pkl\n",
      "  [*] load ./weight/encoder_h3.pkl\n",
      "  [*] load ./weight/encoder_h4.pkl\n",
      "  [*] load ./weight/encoder_b1.pkl\n",
      "  [*] load ./weight/encoder_b2.pkl\n",
      "  [*] load ./weight/encoder_b3.pkl\n",
      "  [*] load ./weight/encoder_b4.pkl\n"
     ]
    }
   ],
   "source": [
    "import pickle\n",
    "import _pickle as cPickle\n",
    "\n",
    "def loadparameter(path):\n",
    "    with open(path, 'rb') as f:\n",
    "        obj = cPickle.load(f)\n",
    "        print(\"  [*] load %s\" % path)\n",
    "        return obj\n",
    "\n",
    "\n",
    "weight1 = loadparameter('./weight/encoder_h1.pkl') \n",
    "weight2 = loadparameter('./weight/encoder_h2.pkl')\n",
    "weight3 = loadparameter('./weight/encoder_h3.pkl')\n",
    "weight4 = loadparameter('./weight/encoder_h4.pkl')\n",
    "bias1 = loadparameter('./weight/encoder_b1.pkl')\n",
    "bias2 = loadparameter('./weight/encoder_b2.pkl')\n",
    "bias3 = loadparameter('./weight/encoder_b3.pkl')\n",
    "bias4 = loadparameter('./weight/encoder_b4.pkl')"
   ]
  },
  {
   "cell_type": "code",
   "execution_count": 56,
   "metadata": {},
   "outputs": [
    {
     "name": "stdout",
     "output_type": "stream",
     "text": [
      "(82, 500)\n"
     ]
    }
   ],
   "source": [
    "print(weight1.shape)\n"
   ]
  },
  {
   "cell_type": "code",
   "execution_count": 57,
   "metadata": {},
   "outputs": [],
   "source": [
    "#Model direct save\n",
    "model.layers[0].set_weights([weight1,bias1])\n",
    "model.layers[1].set_weights([weight2,bias2])\n",
    "model.layers[2].set_weights([weight3,bias3])\n",
    "model.layers[3].set_weights([weight4,bias4])\n"
   ]
  },
  {
   "cell_type": "code",
   "execution_count": 58,
   "metadata": {},
   "outputs": [
    {
     "name": "stdout",
     "output_type": "stream",
     "text": [
      "Model: \"sequential_1\"\n",
      "_________________________________________________________________\n",
      "Layer (type)                 Output Shape              Param #   \n",
      "=================================================================\n",
      "dense_4 (Dense)              (None, 500)               41500     \n",
      "_________________________________________________________________\n",
      "dense_5 (Dense)              (None, 250)               125250    \n",
      "_________________________________________________________________\n",
      "dense_6 (Dense)              (None, 120)               30120     \n",
      "_________________________________________________________________\n",
      "dense_7 (Dense)              (None, 60)                7260      \n",
      "=================================================================\n",
      "Total params: 204,130\n",
      "Trainable params: 204,130\n",
      "Non-trainable params: 0\n",
      "_________________________________________________________________\n",
      "None\n"
     ]
    }
   ],
   "source": [
    "summary = model.summary()\n",
    "\n",
    "print(summary)"
   ]
  },
  {
   "cell_type": "markdown",
   "metadata": {},
   "source": [
    "Play "
   ]
  },
  {
   "cell_type": "code",
   "execution_count": 79,
   "metadata": {},
   "outputs": [],
   "source": [
    "model.save('./dqn_reward_v2i_v2v_qos')"
   ]
  },
  {
   "cell_type": "code",
   "execution_count": 81,
   "metadata": {},
   "outputs": [
    {
     "name": "stdout",
     "output_type": "stream",
     "text": [
      "/home/cnlab1/anaconda3/envs/V2VRL/lib/python3.7/runpy.py:125: RuntimeWarning: 'tf2onnx.convert' found in sys.modules after import of package 'tf2onnx', but prior to execution of 'tf2onnx.convert'; this may result in unpredictable behaviour\n",
      "  warn(RuntimeWarning(msg))\n",
      "WARNING:tensorflow:From /home/cnlab1/anaconda3/envs/V2VRL/lib/python3.7/site-packages/tf2onnx/verbose_logging.py:76: The name tf.logging.set_verbosity is deprecated. Please use tf.compat.v1.logging.set_verbosity instead.\n",
      "\n",
      "2022-07-12 19:13:46,707 - WARNING - From /home/cnlab1/anaconda3/envs/V2VRL/lib/python3.7/site-packages/tf2onnx/verbose_logging.py:76: The name tf.logging.set_verbosity is deprecated. Please use tf.compat.v1.logging.set_verbosity instead.\n",
      "\n",
      "2022-07-12 19:13:46,731 - WARNING - '--tag' not specified for saved_model. Using --tag serve\n",
      "2022-07-12 19:13:46,731 - WARNING - '--signature_def' not provided. Using all signatures.\n",
      "Traceback (most recent call last):\n",
      "  File \"/home/cnlab1/anaconda3/envs/V2VRL/lib/python3.7/runpy.py\", line 193, in _run_module_as_main\n",
      "    \"__main__\", mod_spec)\n",
      "  File \"/home/cnlab1/anaconda3/envs/V2VRL/lib/python3.7/runpy.py\", line 85, in _run_code\n",
      "    exec(code, run_globals)\n",
      "  File \"/home/cnlab1/anaconda3/envs/V2VRL/lib/python3.7/site-packages/tf2onnx/convert.py\", line 696, in <module>\n",
      "    main()\n",
      "  File \"/home/cnlab1/anaconda3/envs/V2VRL/lib/python3.7/site-packages/tf2onnx/convert.py\", line 238, in main\n",
      "    use_graph_names=args.use_graph_names)\n",
      "  File \"/home/cnlab1/anaconda3/envs/V2VRL/lib/python3.7/site-packages/tf2onnx/tf_loader.py\", line 626, in from_saved_model\n",
      "    _from_saved_model_v1(sess, model_path, input_names, output_names, tag, signatures, use_graph_names)\n",
      "  File \"/home/cnlab1/anaconda3/envs/V2VRL/lib/python3.7/site-packages/tf2onnx/tf_loader.py\", line 414, in _from_saved_model_v1\n",
      "    imported = tf.saved_model.loader.load(sess, tag, model_path)\n",
      "  File \"/home/cnlab1/anaconda3/envs/V2VRL/lib/python3.7/site-packages/tensorflow_core/python/util/deprecation.py\", line 324, in new_func\n",
      "    return func(*args, **kwargs)\n",
      "  File \"/home/cnlab1/anaconda3/envs/V2VRL/lib/python3.7/site-packages/tensorflow_core/python/saved_model/loader_impl.py\", line 268, in load\n",
      "    loader = SavedModelLoader(export_dir)\n",
      "  File \"/home/cnlab1/anaconda3/envs/V2VRL/lib/python3.7/site-packages/tensorflow_core/python/saved_model/loader_impl.py\", line 284, in __init__\n",
      "    self._saved_model = parse_saved_model(export_dir)\n",
      "  File \"/home/cnlab1/anaconda3/envs/V2VRL/lib/python3.7/site-packages/tensorflow_core/python/saved_model/loader_impl.py\", line 83, in parse_saved_model\n",
      "    constants.SAVED_MODEL_FILENAME_PB))\n",
      "OSError: SavedModel file does not exist at: ./dqn_reward_v2i_v2v_qos/{saved_model.pbtxt|saved_model.pb}\n"
     ]
    }
   ],
   "source": [
    "!python -m tf2onnx.convert --saved-model ./dqn_reward_v2i_v2v_qos --output ./dqn_reward_v2i_v2v_qos.onnx --opset 12"
   ]
  },
  {
   "cell_type": "code",
   "execution_count": 82,
   "metadata": {},
   "outputs": [
    {
     "name": "stderr",
     "output_type": "stream",
     "text": [
      "2022-07-12 19:32:30.121925: W tensorflow/core/util/tensor_slice_reader.cc:95] Could not open ./dqn_reward_v2i_v2v_qos: Data loss: not an sstable (bad magic number): perhaps your file is in a different file format and you need to use a different restore operator?\n"
     ]
    },
    {
     "ename": "AttributeError",
     "evalue": "'str' object has no attribute 'decode'",
     "output_type": "error",
     "traceback": [
      "\u001b[0;31m---------------------------------------------------------------------------\u001b[0m",
      "\u001b[0;31mAttributeError\u001b[0m                            Traceback (most recent call last)",
      "\u001b[0;32m/tmp/ipykernel_21275/1179590407.py\u001b[0m in \u001b[0;36m<module>\u001b[0;34m\u001b[0m\n\u001b[0;32m----> 1\u001b[0;31m \u001b[0mmodel\u001b[0m\u001b[0;34m.\u001b[0m\u001b[0mload_weights\u001b[0m\u001b[0;34m(\u001b[0m\u001b[0;34m'./dqn_reward_v2i_v2v_qos'\u001b[0m\u001b[0;34m)\u001b[0m\u001b[0;34m\u001b[0m\u001b[0;34m\u001b[0m\u001b[0m\n\u001b[0m",
      "\u001b[0;32m~/anaconda3/envs/V2VRL/lib/python3.7/site-packages/tensorflow_core/python/keras/engine/training.py\u001b[0m in \u001b[0;36mload_weights\u001b[0;34m(self, filepath, by_name)\u001b[0m\n\u001b[1;32m    180\u001b[0m         raise ValueError('Load weights is not yet supported with TPUStrategy '\n\u001b[1;32m    181\u001b[0m                          'with steps_per_run greater than 1.')\n\u001b[0;32m--> 182\u001b[0;31m     \u001b[0;32mreturn\u001b[0m \u001b[0msuper\u001b[0m\u001b[0;34m(\u001b[0m\u001b[0mModel\u001b[0m\u001b[0;34m,\u001b[0m \u001b[0mself\u001b[0m\u001b[0;34m)\u001b[0m\u001b[0;34m.\u001b[0m\u001b[0mload_weights\u001b[0m\u001b[0;34m(\u001b[0m\u001b[0mfilepath\u001b[0m\u001b[0;34m,\u001b[0m \u001b[0mby_name\u001b[0m\u001b[0;34m)\u001b[0m\u001b[0;34m\u001b[0m\u001b[0;34m\u001b[0m\u001b[0m\n\u001b[0m\u001b[1;32m    183\u001b[0m \u001b[0;34m\u001b[0m\u001b[0m\n\u001b[1;32m    184\u001b[0m   \u001b[0;34m@\u001b[0m\u001b[0mtrackable\u001b[0m\u001b[0;34m.\u001b[0m\u001b[0mno_automatic_dependency_tracking\u001b[0m\u001b[0;34m\u001b[0m\u001b[0;34m\u001b[0m\u001b[0m\n",
      "\u001b[0;32m~/anaconda3/envs/V2VRL/lib/python3.7/site-packages/tensorflow_core/python/keras/engine/network.py\u001b[0m in \u001b[0;36mload_weights\u001b[0;34m(self, filepath, by_name)\u001b[0m\n\u001b[1;32m   1371\u001b[0m         \u001b[0msaving\u001b[0m\u001b[0;34m.\u001b[0m\u001b[0mload_weights_from_hdf5_group_by_name\u001b[0m\u001b[0;34m(\u001b[0m\u001b[0mf\u001b[0m\u001b[0;34m,\u001b[0m \u001b[0mself\u001b[0m\u001b[0;34m.\u001b[0m\u001b[0mlayers\u001b[0m\u001b[0;34m)\u001b[0m\u001b[0;34m\u001b[0m\u001b[0;34m\u001b[0m\u001b[0m\n\u001b[1;32m   1372\u001b[0m       \u001b[0;32melse\u001b[0m\u001b[0;34m:\u001b[0m\u001b[0;34m\u001b[0m\u001b[0;34m\u001b[0m\u001b[0m\n\u001b[0;32m-> 1373\u001b[0;31m         \u001b[0msaving\u001b[0m\u001b[0;34m.\u001b[0m\u001b[0mload_weights_from_hdf5_group\u001b[0m\u001b[0;34m(\u001b[0m\u001b[0mf\u001b[0m\u001b[0;34m,\u001b[0m \u001b[0mself\u001b[0m\u001b[0;34m.\u001b[0m\u001b[0mlayers\u001b[0m\u001b[0;34m)\u001b[0m\u001b[0;34m\u001b[0m\u001b[0;34m\u001b[0m\u001b[0m\n\u001b[0m\u001b[1;32m   1374\u001b[0m \u001b[0;34m\u001b[0m\u001b[0m\n\u001b[1;32m   1375\u001b[0m   \u001b[0;32mdef\u001b[0m \u001b[0m_updated_config\u001b[0m\u001b[0;34m(\u001b[0m\u001b[0mself\u001b[0m\u001b[0;34m)\u001b[0m\u001b[0;34m:\u001b[0m\u001b[0;34m\u001b[0m\u001b[0;34m\u001b[0m\u001b[0m\n",
      "\u001b[0;32m~/anaconda3/envs/V2VRL/lib/python3.7/site-packages/tensorflow_core/python/keras/saving/hdf5_format.py\u001b[0m in \u001b[0;36mload_weights_from_hdf5_group\u001b[0;34m(f, layers)\u001b[0m\n\u001b[1;32m    643\u001b[0m   \"\"\"\n\u001b[1;32m    644\u001b[0m   \u001b[0;32mif\u001b[0m \u001b[0;34m'keras_version'\u001b[0m \u001b[0;32min\u001b[0m \u001b[0mf\u001b[0m\u001b[0;34m.\u001b[0m\u001b[0mattrs\u001b[0m\u001b[0;34m:\u001b[0m\u001b[0;34m\u001b[0m\u001b[0;34m\u001b[0m\u001b[0m\n\u001b[0;32m--> 645\u001b[0;31m     \u001b[0moriginal_keras_version\u001b[0m \u001b[0;34m=\u001b[0m \u001b[0mf\u001b[0m\u001b[0;34m.\u001b[0m\u001b[0mattrs\u001b[0m\u001b[0;34m[\u001b[0m\u001b[0;34m'keras_version'\u001b[0m\u001b[0;34m]\u001b[0m\u001b[0;34m.\u001b[0m\u001b[0mdecode\u001b[0m\u001b[0;34m(\u001b[0m\u001b[0;34m'utf8'\u001b[0m\u001b[0;34m)\u001b[0m\u001b[0;34m\u001b[0m\u001b[0;34m\u001b[0m\u001b[0m\n\u001b[0m\u001b[1;32m    646\u001b[0m   \u001b[0;32melse\u001b[0m\u001b[0;34m:\u001b[0m\u001b[0;34m\u001b[0m\u001b[0;34m\u001b[0m\u001b[0m\n\u001b[1;32m    647\u001b[0m     \u001b[0moriginal_keras_version\u001b[0m \u001b[0;34m=\u001b[0m \u001b[0;34m'1'\u001b[0m\u001b[0;34m\u001b[0m\u001b[0;34m\u001b[0m\u001b[0m\n",
      "\u001b[0;31mAttributeError\u001b[0m: 'str' object has no attribute 'decode'"
     ]
    }
   ],
   "source": [
    "model.load_weights('./dqn_reward_v2i_v2v_qos')"
   ]
  },
  {
   "cell_type": "code",
   "execution_count": null,
   "metadata": {},
   "outputs": [],
   "source": []
  }
 ],
 "metadata": {
  "kernelspec": {
   "display_name": "Python 3.7.13 ('V2VRL')",
   "language": "python",
   "name": "python3"
  },
  "language_info": {
   "codemirror_mode": {
    "name": "ipython",
    "version": 3
   },
   "file_extension": ".py",
   "mimetype": "text/x-python",
   "name": "python",
   "nbconvert_exporter": "python",
   "pygments_lexer": "ipython3",
   "version": "3.7.13"
  },
  "orig_nbformat": 4,
  "vscode": {
   "interpreter": {
    "hash": "0d966521a4e34bd56f9b7c632249375352d9124701d2d6a88dfad064f577c19f"
   }
  }
 },
 "nbformat": 4,
 "nbformat_minor": 2
}
