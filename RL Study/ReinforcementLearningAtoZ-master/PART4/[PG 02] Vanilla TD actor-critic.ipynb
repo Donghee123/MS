{
 "cells": [
  {
   "cell_type": "code",
   "execution_count": 1,
   "metadata": {},
   "outputs": [],
   "source": [
    "import sys; sys.path.append('..') # add project root to the python path"
   ]
  },
  {
   "cell_type": "code",
   "execution_count": 2,
   "metadata": {},
   "outputs": [],
   "source": [
    "import gym\n",
    "import torch\n",
    "\n",
    "from src.part3.MLP import MultiLayerPerceptron as MLP\n",
    "from src.part4.ActorCritic import TDActorCritic\n",
    "from src.common.train_utils import EMAMeter, to_tensor"
   ]
  },
  {
   "cell_type": "code",
   "execution_count": 3,
   "metadata": {},
   "outputs": [
    {
     "name": "stderr",
     "output_type": "stream",
     "text": [
      "C:\\Users\\joon0\\Anaconda3\\envs\\gpu_torch130\\lib\\site-packages\\gym\\logger.py:30: UserWarning: \u001b[33mWARN: Box bound precision lowered by casting to float32\u001b[0m\n",
      "  warnings.warn(colorize('%s: %s'%('WARN', msg % args), 'yellow'))\n"
     ]
    }
   ],
   "source": [
    "env = gym.make('CartPole-v1')\n",
    "s_dim = env.observation_space.shape[0]\n",
    "a_dim = env.action_space.n"
   ]
  },
  {
   "cell_type": "markdown",
   "metadata": {},
   "source": [
    "# TD Actor-critic\n",
    "\n",
    "이번 실습에는 Vanilla version 의 TD Actor-critic을 만들어볼까요? \n",
    "> TD actor-critic은 Advantage function $A(s,a)$을 $V_{\\psi}(s)$ 활용해서 추산하고 그 값을 리턴대신 활용해서 Policy gradient 를 계산하는 기법인거 잊지 않으셨죠?\n",
    "> $$A(s,a) \\approx \\delta_\\psi(s,a) = r+\\gamma V_\\psi(s')-V(s)$$\n",
    "\n",
    "`TD Actor-critic`의 의사 코드는 다음과 같습니다.\n",
    "\n",
    "<img src=\"./images/TDAC.png\" width=\"60%\" height=\"40%\" title=\"TDAC\" alt=\"TDAC\"></img>\n",
    "\n",
    "파이썬으로 구현한 `TD Actor-critic` 은 어떻게 생겼을까요?\n",
    "\n",
    "```python\n",
    "class TDActorCritic(nn.Module):\n",
    "\n",
    "    def __init__(self,\n",
    "                 policy_net,\n",
    "                 value_net,\n",
    "                 gamma: float = 1.0,\n",
    "                 lr: float = 0.0002):\n",
    "        super(TDActorCritic, self).__init__()\n",
    "        self.policy_net = policy_net\n",
    "        self.value_net = value_net\n",
    "        self.gamma = gamma\n",
    "        self.lr = lr\n",
    "\n",
    "        # use shared optimizer\n",
    "        total_param = list(policy_net.parameters()) + list(value_net.parameters())\n",
    "        self.optimizer = torch.optim.Adam(params=total_param, lr=lr)\n",
    "\n",
    "        self._eps = 1e-25\n",
    "        self._mse = torch.nn.MSELoss()\n",
    "        \n",
    "    def get_action(self, state):\n",
    "        with torch.no_grad():\n",
    "            logits = self.policy(state)\n",
    "            dist = Categorical(logits=logits)\n",
    "            a = dist.sample()  # sample action from softmax policy\n",
    "        return a\n",
    "```\n",
    "\n",
    "가장 중요한 업데이트는 어떻게 생겼을까요?\n",
    "\n",
    "```python\n",
    "    def update(self, state, action, reward, next_state, done):\n",
    "        # compute targets\n",
    "        with torch.no_grad():\n",
    "            td_target = reward + self.gamma * self.value_net(next_state) * (1-done)\n",
    "            td_error = td_target - self.value_net(state)\n",
    "\n",
    "        # compute log probabilities\n",
    "        dist = Categorical(logits=self.policy_net(state))\n",
    "        prob = dist.probs.gather(1, action)\n",
    "\n",
    "        # compute the values of current states\n",
    "        v = self.value_net(state)\n",
    "\n",
    "        loss = -torch.log(prob + self._eps) * td_error + self._mse(v, td_target)\n",
    "        loss = loss.mean()\n",
    "\n",
    "        self.optimizer.zero_grad()\n",
    "        loss.backward()\n",
    "        self.optimizer.step()\n",
    "```"
   ]
  },
  {
   "cell_type": "code",
   "execution_count": 4,
   "metadata": {},
   "outputs": [],
   "source": [
    "policy_net = MLP(s_dim, a_dim, [128])\n",
    "value_net = MLP(s_dim, 1, [128])\n",
    "\n",
    "agent = TDActorCritic(policy_net, value_net)\n",
    "ema = EMAMeter()"
   ]
  },
  {
   "cell_type": "markdown",
   "metadata": {},
   "source": [
    "## TD 알고리즘의 장점; sample-by-sample update\n",
    "\n",
    "TD Actor-critic 의 경우 Critic의 학습이 Temporal-difference 기법을 활용해서 진행되므로, 하나의 에피소드가 끝나기 전에 각각의 transition sample 만으로도 학습을 진행할 수 있습니다. 이번 예제에서는 sample-by-sample update를 수행하는 TD Actor-critic을 훈련해볼까요?"
   ]
  },
  {
   "cell_type": "code",
   "execution_count": 6,
   "metadata": {},
   "outputs": [
    {
     "name": "stdout",
     "output_type": "stream",
     "text": [
      "Episode 0 || EMA: 15.0 \n",
      "Episode 500 || EMA: 14.740729513782314 \n",
      "Episode 1000 || EMA: 71.29630030249417 \n",
      "Episode 1500 || EMA: 94.97525109548101 \n",
      "Episode 2000 || EMA: 39.13963542750589 \n",
      "Episode 2500 || EMA: 53.68169916203771 \n",
      "Episode 3000 || EMA: 155.9845074993321 \n",
      "Episode 3500 || EMA: 26.210668730810067 \n",
      "Episode 4000 || EMA: 17.22734178837546 \n",
      "Episode 4500 || EMA: 86.7583548005704 \n",
      "Episode 5000 || EMA: 9.71585051897232 \n",
      "Episode 5500 || EMA: 104.7753527800968 \n",
      "Episode 6000 || EMA: 9.521699917472723 \n",
      "Episode 6500 || EMA: 9.04936570210145 \n",
      "Episode 7000 || EMA: 10.231812839064318 \n",
      "Episode 7500 || EMA: 52.183884014729365 \n",
      "Episode 8000 || EMA: 9.057574187224324 \n",
      "Episode 8500 || EMA: 65.04465573021452 \n",
      "Episode 9000 || EMA: 68.72342462901513 \n",
      "Episode 9500 || EMA: 106.56567032821476 \n"
     ]
    }
   ],
   "source": [
    "n_eps = 10000\n",
    "print_every = 500\n",
    "\n",
    "for ep in range(n_eps):\n",
    "    s = env.reset()\n",
    "    cum_r = 0\n",
    "\n",
    "    while True:\n",
    "        s = to_tensor(s, size=(1, 4))\n",
    "        a = agent.get_action(s)\n",
    "        ns, r, done, info = env.step(a.item())\n",
    "        \n",
    "        ns = to_tensor(ns, size=(1,4))\n",
    "        agent.update(s, a.view(-1,1), r, ns, done)\n",
    "        \n",
    "        s = ns.numpy()\n",
    "        cum_r += r\n",
    "        if done:\n",
    "            break\n",
    "\n",
    "    ema.update(cum_r)\n",
    "    if ep % print_every == 0:\n",
    "        print(\"Episode {} || EMA: {} \".format(ep, ema.s))"
   ]
  },
  {
   "cell_type": "markdown",
   "metadata": {},
   "source": [
    "## REINFORCE와 TD Actor-critic 비교하기\n",
    "\n",
    "REINFORCE와 TD Actor-critic 알고리즘의 성능을 비교해볼까요? 실험결과는 [여기](https://app.wandb.ai/junyoung-park/cartpole_exp?workspace=user-junyoung-park)에서 확인할 수 있습니다.\n",
    "\n",
    "### `TDActorCritic`의 성능이 생각보다 좋지않네요? 왜 그럴까요?\n",
    "(개인적인 의견으로는, 일단 '서로 다른 두개의 알고리즘을 비교하는 방식이 잘못됐다'고 말씀드리고 싶습니다) <br>\n",
    "\n",
    "다양한 이유가 있겠지만, 최소한 세가지 요인이 있습니다.\n",
    "\n",
    "1. 당연하게도, 하이퍼파라미터 튜닝의 필요성\n",
    "2. Actor-critic 알고리즘 학습의 불안정성\n",
    "3. 심층신경망을 활용하는 RL기법들의 불안정성\n",
    "\n",
    "위 문제들은 <파트5 심층강화학습>에서 본격적으로 다루어 봅시다."
   ]
  }
 ],
 "metadata": {
  "kernelspec": {
   "display_name": "Python 3",
   "language": "python",
   "name": "python3"
  },
  "language_info": {
   "codemirror_mode": {
    "name": "ipython",
    "version": 3
   },
   "file_extension": ".py",
   "mimetype": "text/x-python",
   "name": "python",
   "nbconvert_exporter": "python",
   "pygments_lexer": "ipython3",
   "version": "3.7.4"
  }
 },
 "nbformat": 4,
 "nbformat_minor": 4
}
