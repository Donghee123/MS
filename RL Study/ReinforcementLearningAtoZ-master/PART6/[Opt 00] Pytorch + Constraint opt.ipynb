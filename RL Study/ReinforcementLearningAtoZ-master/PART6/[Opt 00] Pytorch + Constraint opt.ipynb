{
 "cells": [
  {
   "cell_type": "code",
   "execution_count": 1,
   "metadata": {},
   "outputs": [],
   "source": [
    "import sys; sys.path.append('..') # add project root to the python path"
   ]
  },
  {
   "cell_type": "code",
   "execution_count": 2,
   "metadata": {},
   "outputs": [],
   "source": [
    "from functools import partial\n",
    "\n",
    "import torch\n",
    "import numpy as np\n",
    "import matplotlib.pyplot as plt\n",
    "from scipy.optimize import minimize\n",
    "from torch.utils.data import TensorDataset, DataLoader\n",
    "\n",
    "from src.part3.MLP import MultiLayerPerceptron as MLP"
   ]
  },
  {
   "cell_type": "markdown",
   "metadata": {},
   "source": [
    "### 제약조건이 존재하는 최적화 문제 풀기\n",
    "\n",
    "$$\n",
    "\\begin{aligned}\n",
    " \\min_{x} &\\, f(x) \\\\\n",
    " \\text{s.t.} &\\, x_{min} \\leq x \\leq x_{max} \\\\\n",
    "\\end{aligned}\n",
    "$$\n",
    "\n",
    "Box constraint는 최적화 문제를 풀때 가장 일상적으로 고려되는 제약조건의 형태입니다.\n",
    "\n",
    "#### Box constraint\n",
    "\n",
    "$$x_{min} \\leq x \\leq x_{max}$$\n",
    "\n",
    "Box constraint는 최적화문제의 변수 $x$가 $x_{min}$ 이상 $x_{max}$ 이하를 만족시켜야한다는 제약 조건입니다. Box constraint는 수업에서 다루엇던 부등식 제약조건의 특별한 경우로서, 이론적으로 최적화 문제를 풀때 여타 다른 부득식 제약조건과 동일하게 취급될 수 있습니다. 하지만 많은 경우 optimizer를 구현할 때는 Box constraint를 좀 더 잘 고려할수 있으므로, 일반적으로 많은 off-the-shelf solver 는 Box constraint를 특별한 제약조건으로서 취급합니다.  \n",
    "\n",
    "> 예를 들어, `scipy`의 solver는 Box constraint 을 `bounds`라는 arugment를 활용해서 기술합니다."
   ]
  },
  {
   "cell_type": "markdown",
   "metadata": {},
   "source": [
    "## `scipy.optimize` 패키지\n",
    "\n",
    "`scipy.optimize` 패키지는 다양한 optimization solver들을 구현해두었습니다. 그리고 파이썬 인터페이스를 정말 잘 갖추고 있습니다 (+ 무료로 사용가능). 최적화 문제를 만들고 풀 때 몇줄의 코드만 구현해주면 됩니다. \n",
    "\n",
    "> 최적화 목적식 및 제약조건의 jacobian, hessian을 계산하는 코드만 짜주면 됩니다!\n",
    "\n",
    "특히, `scipy.optmize.minize` 함수는 일반적인 경우에 최적화 문제를 정말 잘 풀어줍니다. (우리가 다루지않은 많은 최적화 trick들을 구현해놓고 자동으로 주어진 최적화 문제에 적합한 trick들을 적용해줌. 심지어는 주어진 최적화 문제가 미분가능하지 않은 경우도 finite difference 계열의 추산기법을 활용해서 풀어줍니다.)\n",
    "\n",
    "### `scipy.optimize.minimize` 의 interface\n",
    "\n",
    "`scipy.optimize.minimize` 함수는 아래의 입력을 받습니다: <br>\n",
    "추가적인 입력에 대해서는 [다음](https://docs.scipy.org/doc/scipy/reference/generated/scipy.optimize.minimize.html)의 링크를 참조해주세요.\n",
    "\n",
    "1. `fun`: 최적화 문제의 목적함수를 계산해주는 코드.\n",
    "2. `x0`: 초기해. 제약조건을 만족하는 것 중에 하나를 넘겨주면 됩니다.\n",
    "3. `jac`: (optional) 목적함수의 최적화 변수에 대한 1계 미분을 계산해주는 코드\n",
    "4. `hessian`: (optional) 목적함수의 최적화 변수에 대한 2계 미분을 계산해주는 코드\n",
    "5. `bounds`: (optional) Box constraints\n",
    "6. `constraints`: (optional) 선형/비선형 제약조건\n",
    "\n",
    "`jac` 과 `hessian` 이 주어지지 않는 경우에는, `scipy.optmize.minize` 함수가 1계 및 2계 미분을 수치적인 방법으로 추산합니다."
   ]
  },
  {
   "cell_type": "markdown",
   "metadata": {},
   "source": [
    "##  `fun`, `jac`, `hessian` 을 구현하는 방법\n",
    "\n",
    "우리의 주된 관심사는 `torch` 모델로 표현된 목적식 및 제약식 가진 최적화문제를 `scipy.optimize.minimize`로 푸는 것이었죠? `torch` 에서는 backpropagation 을 활용하여, 쉽고 효율적으로 `jac`과 `hessian`을 구현할 수 있습니다."
   ]
  },
  {
   "cell_type": "code",
   "execution_count": 3,
   "metadata": {},
   "outputs": [],
   "source": [
    "def objective(x, model):\n",
    "    # Note that we will not use the pytorch's automatic differentiation functionality\n",
    "    # while computing objective\n",
    "    with torch.no_grad(): \n",
    "        torch_x = torch.from_numpy(x).view(-1,1).float()\n",
    "        y = model(torch_x)\n",
    "        y = y.sum().numpy()\n",
    "    return y\n",
    "\n",
    "def jac(x, model):\n",
    "    torch_x = torch.from_numpy(x).view(-1,1).float()\n",
    "    jac = torch.autograd.functional.jacobian(model, torch_x).numpy()\n",
    "    return jac"
   ]
  },
  {
   "cell_type": "markdown",
   "metadata": {},
   "source": [
    "## 최적화 목적함수 및 `torch`모델 학습\n",
    "\n",
    "이제 한번 최적화 문제를 풀어보도록 하겠습니다. 일단 목적함수부터 설정해볼까요?\n",
    "우리의 목적함수는 다음과 같은 형태로 주어졌다고 생각해봅시다.\n",
    "\n",
    "$$ y=x^2$$\n",
    "\n",
    "일단 $y=x^2$ 를 근사하는 MLP를 하나 학습해보도록 하죠."
   ]
  },
  {
   "cell_type": "code",
   "execution_count": 4,
   "metadata": {},
   "outputs": [],
   "source": [
    "def generate_y(x, roots=[0.0, 0.0]):\n",
    "    _x = 1\n",
    "    for root in roots:\n",
    "        _x *= (x - root)\n",
    "    return _x"
   ]
  },
  {
   "cell_type": "code",
   "execution_count": 5,
   "metadata": {},
   "outputs": [],
   "source": [
    "x_min, x_max = -4.0, 4.0\n",
    "\n",
    "xs_linspace = torch.linspace(-4, 4, 2000).view(-1, 1)\n",
    "ys_linspace = generate_y(xs_linspace)\n",
    "\n",
    "# samples to construct training dataset\n",
    "x_dist = torch.distributions.uniform.Uniform(-4.0, 4.0)\n",
    "xs = x_dist.sample(sample_shape=(500, 1))\n",
    "ys = generate_y(xs)\n",
    "\n",
    "BS = 64 # Batch size\n",
    "ds = TensorDataset(xs, ys)\n",
    "loader = DataLoader(ds, batch_size=BS, shuffle=True)"
   ]
  },
  {
   "cell_type": "code",
   "execution_count": 6,
   "metadata": {},
   "outputs": [],
   "source": [
    "m = MLP(1, 1, num_neurons=[128, 128])\n",
    "mse_criteria = torch.nn.MSELoss()\n",
    "opt = torch.optim.Adam(m.parameters(), lr=1e-3)"
   ]
  },
  {
   "cell_type": "code",
   "execution_count": 7,
   "metadata": {},
   "outputs": [
    {
     "name": "stdout",
     "output_type": "stream",
     "text": [
      "500 0.01052027940750122\n",
      "1000 0.001244032522663474\n",
      "1500 0.0004049662675242871\n"
     ]
    }
   ],
   "source": [
    "n_update = 0\n",
    "print_every = 500\n",
    "epochs = 200\n",
    "for _ in range(epochs):\n",
    "    for x, y in loader:        \n",
    "        y_pred = m(x)\n",
    "        loss = mse_criteria(y_pred, y)\n",
    "        opt.zero_grad()\n",
    "        loss.backward()\n",
    "        opt.step()\n",
    "\n",
    "        n_update += 1\n",
    "        if n_update % print_every == 0:\n",
    "            print(n_update, loss.item())"
   ]
  },
  {
   "cell_type": "markdown",
   "metadata": {},
   "source": [
    "## 모델 학습결과 검증\n",
    "\n",
    "학습된 모델이 얼마나 잘 $y=x^2$을 예측하는지 확인해봅시다."
   ]
  },
  {
   "cell_type": "code",
   "execution_count": 8,
   "metadata": {},
   "outputs": [
    {
     "data": {
      "image/png": "[encoded data removed]",
      "text/plain": [
       "<Figure size 720x360 with 1 Axes>"
      ]
     },
     "metadata": {
      "needs_background": "light"
     },
     "output_type": "display_data"
    }
   ],
   "source": [
    "xs_linspace = torch.linspace(-4, 4, 2000).view(-1, 1)\n",
    "ys_linspace = generate_y(xs_linspace)\n",
    "\n",
    "fig, axes = plt.subplots(1, 1, figsize=(10, 5))\n",
    "axes.grid()\n",
    "axes.plot(xs_linspace, ys_linspace, label='Ground truth')\n",
    "ys_pred = m(xs_linspace).detach()\n",
    "axes.plot(xs_linspace, ys_pred, label='Model prediction')\n",
    "axes.legend()\n",
    "axes.set_xlabel(\"input\")\n",
    "axes.set_ylabel(\"y value\")\n",
    "axes.set_title(\"Model prediction\")\n",
    "plt.show()"
   ]
  },
  {
   "cell_type": "markdown",
   "metadata": {},
   "source": [
    "## MLP 로 근사된 목적함수와 제약조건을 가지는 최적화 문제\n",
    "\n",
    "원래 우리가 풀려고 했던 최적화 문제의 목적함수는 $f(x)$ 였습니다. 우리에게는 $f(x)$의 closed form은 알려져 있지 않고 오직 $f(x)$의 sample만 관측할 수 있다고 생각해볼까요? 그렇다면 우리가 할 수 있는 일은 sample을 모아서 $f(x)$를 잘 근사하는 $f_\\theta(x)$ 를 학습한 후, 최적화 문제의 $f(x)$ 자리에 $f_\\theta(x)$를 넣어주고 최적화 문제를 푸는 것입니다. 그런 상황은 다음과 같은 수식으로 표현할 수 있습니다.\n",
    "\n",
    "$$\n",
    "\\begin{aligned}\n",
    " \\min_{x} &\\, f_\\theta(x) \\\\\n",
    " \\text{s.t.} &\\, x_{min} \\leq x \\leq x_{max} \\\\\n",
    "\\end{aligned}\n",
    "$$\n",
    "\n",
    "자 이제 그러면 위의 수식으로 표현된 최적화 문제를 `scipy.optimize.minimize`를 활용해 푸는 방법에 대해서 알아보겠습니다."
   ]
  },
  {
   "cell_type": "code",
   "execution_count": 14,
   "metadata": {},
   "outputs": [],
   "source": [
    "lb, ub = -3.0, -1.0 # declare lower and upper bound of optmization variable\n",
    "\n",
    "x_init = np.random.uniform(lb, ub) \n",
    "x0 = np.ones(1) * x_init\n",
    "x0_tensor = torch.ones(1,1) * x_init\n",
    "y0 = m(x0_tensor).detach()"
   ]
  },
  {
   "cell_type": "code",
   "execution_count": 15,
   "metadata": {},
   "outputs": [
    {
     "data": {
      "text/plain": [
       "array([-1.99795166])"
      ]
     },
     "execution_count": 15,
     "metadata": {},
     "output_type": "execute_result"
    }
   ],
   "source": [
    "x0"
   ]
  },
  {
   "cell_type": "code",
   "execution_count": 16,
   "metadata": {},
   "outputs": [],
   "source": [
    "b = (lb, ub)\n",
    "bnds = (b,)\n",
    "\n",
    "soln_nn = minimize(partial(objective, model=m), \n",
    "                   x0, \n",
    "                   method='SLSQP', \n",
    "                   bounds=bnds, \n",
    "                   jac=partial(jac, model=m))"
   ]
  },
  {
   "cell_type": "markdown",
   "metadata": {},
   "source": [
    "## Visualize optimization result"
   ]
  },
  {
   "cell_type": "code",
   "execution_count": 17,
   "metadata": {},
   "outputs": [],
   "source": [
    "xs_linspace = torch.linspace(-4, 4, 2000).view(-1, 1)\n",
    "ys_linspace = generate_y(xs_linspace)"
   ]
  },
  {
   "cell_type": "code",
   "execution_count": 18,
   "metadata": {},
   "outputs": [
    {
     "data": {
      "image/png": "[encoded data removed]",
      "text/plain": [
       "<Figure size 720x360 with 1 Axes>"
      ]
     },
     "metadata": {
      "needs_background": "light"
     },
     "output_type": "display_data"
    }
   ],
   "source": [
    "fig, axes = plt.subplots(1, 1, figsize=(10, 5))\n",
    "axes.grid()\n",
    "axes.plot(xs_linspace, ys_linspace, label='Ground truth')\n",
    "\n",
    "ys_pred = m(xs_linspace).detach()\n",
    "axes.plot(xs_linspace, ys_pred, label='Model prediction')\n",
    "axes.fill_between(np.linspace(lb, ub, 100),\n",
    "                  ys_linspace.min(),\n",
    "                  ys_linspace.max(),\n",
    "                  color='grey', \n",
    "                  alpha=0.3,\n",
    "                  label='constraint region')\n",
    "axes.scatter(x_init, y0, label='Opt start', \n",
    "             c='green', marker='*', s=100.0)\n",
    "\n",
    "axes.scatter(soln_nn.x, soln_nn.fun, label='NN opt', c='green')\n",
    "axes.legend()\n",
    "axes.set_xlabel(\"input\")\n",
    "axes.set_ylabel(\"y value\")\n",
    "plt.show()"
   ]
  }
 ],
 "metadata": {
  "kernelspec": {
   "display_name": "Python 3",
   "language": "python",
   "name": "python3"
  },
  "language_info": {
   "codemirror_mode": {
    "name": "ipython",
    "version": 3
   },
   "file_extension": ".py",
   "mimetype": "text/x-python",
   "name": "python",
   "nbconvert_exporter": "python",
   "pygments_lexer": "ipython3",
   "version": "3.7.5"
  }
 },
 "nbformat": 4,
 "nbformat_minor": 4
}
